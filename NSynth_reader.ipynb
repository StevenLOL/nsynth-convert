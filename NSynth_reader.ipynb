{
 "cells": [
  {
   "cell_type": "code",
   "execution_count": 14,
   "metadata": {
    "collapsed": false
   },
   "outputs": [],
   "source": [
    "%matplotlib inline\n",
    "\n",
    "import matplotlib.pyplot as plt\n",
    "import tensorflow as tf\n",
    "import numpy as np\n",
    "from IPython.display import Audio\n",
    "\n",
    "tfrecords_filename = 'nsynth-test.tfrecord'"
   ]
  },
  {
   "cell_type": "code",
   "execution_count": 15,
   "metadata": {
    "collapsed": false
   },
   "outputs": [],
   "source": [
    "def nsynth_generator(tfrecords_filename):\n",
    "    for serialized_example in tf.python_io.tf_record_iterator(tfrecords_filename):\n",
    "        example = tf.train.Example()\n",
    "        example.ParseFromString(serialized_example)\n",
    "        f = example.features.feature\n",
    "\n",
    "        audio = np.array(f['audio'].float_list.value)\n",
    "\n",
    "        data = {\n",
    "            'note':\n",
    "                f['note'].int64_list.value[0],\n",
    "            'note_str':\n",
    "                f['note_str'].bytes_list.value[0],\n",
    "            'instrument':\n",
    "                f['instrument'].int64_list.value[0],\n",
    "            'instrument_str':\n",
    "                f['instrument_str'].bytes_list.value[0],\n",
    "            'pitch':\n",
    "                f['pitch'].int64_list.value[0],\n",
    "            'velocity':\n",
    "                f['pitch'].int64_list.value[0],\n",
    "            'samplerate':\n",
    "                f['sample_rate'].int64_list.value[0],\n",
    "            'qualities':\n",
    "                map(int, f['qualities'].int64_list.value),\n",
    "            'qualities_str':\n",
    "                map(str, f['qualities_str'].int64_list.value),\n",
    "            'instrument_family':\n",
    "                f['instrument_family'].int64_list.value[0],\n",
    "            'instrument_family_str':\n",
    "                f['instrument_family_str'].bytes_list.value[0],\n",
    "            'instrument_source':\n",
    "                f['instrument_family'].int64_list.value[0],\n",
    "            'instrument_source_str':\n",
    "                f['instrument_source_str'].bytes_list.value[0],\n",
    "        }\n",
    "\n",
    "        yield data, audio"
   ]
  },
  {
   "cell_type": "code",
   "execution_count": 19,
   "metadata": {
    "collapsed": false
   },
   "outputs": [
    {
     "name": "stdout",
     "output_type": "stream",
     "text": [
      "{'instrument_family': 0L, 'instrument_source': 0L, 'pitch': 100L, 'samplerate': 16000L, 'qualities_str': [], 'instrument_str': 'bass_synthetic_033', 'note': 149013L, 'instrument': 417L, 'note_str': 'bass_synthetic_033-100-100', 'qualities': [0, 0, 0, 0, 0, 0, 0, 0, 0, 0], 'instrument_source_str': 'synthetic', 'velocity': 100L, 'instrument_family_str': 'bass'}\n"
     ]
    }
   ],
   "source": [
    "gen_samples = nsynth_generator(tfrecords_filename)\n",
    "metadata, audio = gen_samples.next()\n",
    "print(metadata)"
   ]
  },
  {
   "cell_type": "code",
   "execution_count": 21,
   "metadata": {
    "collapsed": false
   },
   "outputs": [
    {
     "data": {
      "text/plain": [
       "[<matplotlib.lines.Line2D at 0x1132ebad0>]"
      ]
     },
     "execution_count": 21,
     "metadata": {},
     "output_type": "execute_result"
    },
    {
     "data": {
      "image/png": "[encoded data removed]",
      "text/plain": [
       "<matplotlib.figure.Figure at 0x113c04f90>"
      ]
     },
     "metadata": {},
     "output_type": "display_data"
    }
   ],
   "source": [
    "Audio(audio, rate=data['samplerate'])\n",
    "plt.plot(audio)"
   ]
  },
  {
   "cell_type": "code",
   "execution_count": null,
   "metadata": {
    "collapsed": true
   },
   "outputs": [],
   "source": []
  }
 ],
 "metadata": {
  "kernelspec": {
   "display_name": "Python 2",
   "language": "python",
   "name": "python2"
  },
  "language_info": {
   "codemirror_mode": {
    "name": "ipython",
    "version": 2
   },
   "file_extension": ".py",
   "mimetype": "text/x-python",
   "name": "python",
   "nbconvert_exporter": "python",
   "pygments_lexer": "ipython2",
   "version": "2.7.12"
  }
 },
 "nbformat": 4,
 "nbformat_minor": 2
}
